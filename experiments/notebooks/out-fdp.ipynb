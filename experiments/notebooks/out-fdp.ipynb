{
 "cells": [
  {
   "cell_type": "code",
   "execution_count": 1,
   "id": "d6eacbda",
   "metadata": {},
   "outputs": [],
   "source": [
    "m, delta_p, p_min, k, l = 2, 0.5, 0.9, 3, 1000"
   ]
  },
  {
   "cell_type": "code",
   "execution_count": 2,
   "id": "fc8acbcb",
   "metadata": {},
   "outputs": [],
   "source": [
    "import pandas as pd\n",
    "from typing import List\n",
    "import os\n",
    "\n",
    "import matplotlib.pyplot as plt\n",
    "\n",
    "plt.rcParams.update({\n",
    "    \"text.usetex\": True,\n",
    "    \"font.family\": \"Helvetica\",\n",
    "    \"font.size\": 15\n",
    "})\n",
    "\n",
    "import pandas as pd\n",
    "import os\n",
    "\n",
    "L = 41\n",
    "DATA = {\n",
    "        \"m\":            [m for _ in range(L)],\n",
    "        \"delta_p\":      [delta_p for _ in range(L)],\n",
    "        \"p_hat\":        [],\n",
    "        \"p_min\":        [p_min for _ in range(L)],\n",
    "        \"pi\":           [],\n",
    "        \"k\":            [k for _ in range(L)],\n",
    "        \"l\":            [l for _ in range(L)],\n",
    "        \"search_bound\": [],\n",
    "        \"n\":            [],\n",
    "        \"i\":            []\n",
    "    }\n",
    "\n",
    "def read(from_: str) -> pd.DataFrame:\n",
    "    files = os.listdir(from_)\n",
    "    for file in files:\n",
    "        i = float(file.split(\"_\")[0])\n",
    "        #print(file, i)\n",
    "        DATA[\"i\"].append(i)\n",
    "        with open(os.path.join(from_, file), \"r\") as f:\n",
    "            #print(f.readlines()[-2:])\n",
    "            data = next(f.readlines()[-2:].__iter__(), \"\").rstrip().split(\";\")\n",
    "            n, bound, pi, p_hat = float(data[-1]), float(data[-2]), float(data[-5]), float(data[-7])\n",
    "            DATA[\"p_hat\"].append(p_hat)\n",
    "            DATA[\"pi\"].append(pi)\n",
    "            DATA[\"search_bound\"].append(bound)\n",
    "            DATA[\"n\"].append(n)\n",
    "    return pd.DataFrame(DATA)"
   ]
  },
  {
   "cell_type": "code",
   "execution_count": 3,
   "id": "01a5eeab",
   "metadata": {},
   "outputs": [
    {
     "ename": "FileNotFoundError",
     "evalue": "[Errno 2] No such file or directory: '../out/out-fdp-3-50000-600'",
     "output_type": "error",
     "traceback": [
      "\u001b[0;31m---------------------------------------------------------------------------\u001b[0m",
      "\u001b[0;31mFileNotFoundError\u001b[0m                         Traceback (most recent call last)",
      "Cell \u001b[0;32mIn[3], line 5\u001b[0m\n\u001b[1;32m      3\u001b[0m D \u001b[38;5;241m=\u001b[39m \u001b[38;5;124m\"\u001b[39m\u001b[38;5;124mout-fdp-3-50000-600\u001b[39m\u001b[38;5;124m\"\u001b[39m\n\u001b[1;32m      4\u001b[0m \u001b[38;5;66;03m#D = \"fdp-3-1000-300\"\u001b[39;00m\n\u001b[0;32m----> 5\u001b[0m df \u001b[38;5;241m=\u001b[39m \u001b[43mread\u001b[49m\u001b[43m(\u001b[49m\u001b[38;5;124;43m\"\u001b[39;49m\u001b[38;5;124;43m../out/\u001b[39;49m\u001b[38;5;124;43m\"\u001b[39;49m\u001b[38;5;241;43m+\u001b[39;49m\u001b[43mD\u001b[49m\u001b[43m)\u001b[49m\n",
      "Cell \u001b[0;32mIn[2], line 31\u001b[0m, in \u001b[0;36mread\u001b[0;34m(from_)\u001b[0m\n\u001b[1;32m     30\u001b[0m \u001b[38;5;28;01mdef\u001b[39;00m \u001b[38;5;21mread\u001b[39m(from_: \u001b[38;5;28mstr\u001b[39m) \u001b[38;5;241m-\u001b[39m\u001b[38;5;241m>\u001b[39m pd\u001b[38;5;241m.\u001b[39mDataFrame:\n\u001b[0;32m---> 31\u001b[0m     files \u001b[38;5;241m=\u001b[39m \u001b[43mos\u001b[49m\u001b[38;5;241;43m.\u001b[39;49m\u001b[43mlistdir\u001b[49m\u001b[43m(\u001b[49m\u001b[43mfrom_\u001b[49m\u001b[43m)\u001b[49m\n\u001b[1;32m     32\u001b[0m     \u001b[38;5;28;01mfor\u001b[39;00m file \u001b[38;5;129;01min\u001b[39;00m files:\n\u001b[1;32m     33\u001b[0m         i \u001b[38;5;241m=\u001b[39m \u001b[38;5;28mfloat\u001b[39m(file\u001b[38;5;241m.\u001b[39msplit(\u001b[38;5;124m\"\u001b[39m\u001b[38;5;124m_\u001b[39m\u001b[38;5;124m\"\u001b[39m)[\u001b[38;5;241m0\u001b[39m])\n",
      "\u001b[0;31mFileNotFoundError\u001b[0m: [Errno 2] No such file or directory: '../out/out-fdp-3-50000-600'"
     ]
    }
   ],
   "source": [
    "import math\n",
    "\n",
    "D = \"out-fdp-3-50000-600\"\n",
    "#D = \"fdp-3-1000-300\"\n",
    "df = read(\"../out/\"+D)"
   ]
  },
  {
   "cell_type": "code",
   "execution_count": null,
   "id": "525ba233",
   "metadata": {},
   "outputs": [],
   "source": [
    "import math\n",
    "from math import exp\n",
    "\n",
    "def find_bound_1(bound_2: int, p_hat: float, pi: float) -> int:\n",
    "    r = (1-p_min) / (m-1)\n",
    "    for n in range(1,math.ceil(bound_2)+1):\n",
    "        l = (\n",
    "            p_hat * exp(-0.5 * n * (delta_p**2) * ((1-pi)**2))\n",
    "        ) + (\n",
    "            (1-p_hat) * exp(-0.5 * n * ((delta_p * (1-pi)-pi)**2)) \n",
    "        ) \n",
    "        v = l <= r\n",
    "        if v:\n",
    "            return n\n",
    "    return 0\n",
    "\n",
    "df.sort_values(\n",
    "    by=[\"p_hat\"], \n",
    "    inplace=True, \n",
    "    ignore_index=True\n",
    ")\n",
    "df = df.assign(\n",
    "    explicit_bound= lambda x: \n",
    "        (2 / \n",
    "         ((delta_p * (1-x.pi) - x.pi)**2)\n",
    "        ) * (math.log((m-1) / (1-p_min)))\n",
    ")\n",
    "#df[\"bound_1_min_n\"] = df.apply(\n",
    "df[\"implicit_bound\"] = df.apply(\n",
    "    lambda x: find_bound_1(x.explicit_bound, x.p_hat, x.pi), axis=1\n",
    ")\n",
    "len(df)\n",
    "df.dropna(inplace=True)\n",
    "len(df)\n",
    "df"
   ]
  },
  {
   "cell_type": "code",
   "execution_count": null,
   "id": "2e5c0520",
   "metadata": {},
   "outputs": [],
   "source": [
    "fig, ax = plt.subplots(figsize=(10,6))\n",
    "ax.plot(df.p_hat, df.n, \n",
    "        \"purple\", \n",
    "        marker=\"o\",\n",
    "        alpha=0.5,\n",
    "        label=\"empirical bound\",\n",
    "    )\n",
    "\n",
    "ax.plot(df.p_hat, df[\"explicit_bound\"],\"purple\",alpha=0.5,\n",
    "        label=\"explicit bound\",linestyle=\"dotted\",marker=\"o\",)\n",
    "ax.plot(df.p_hat, df[\"implicit_bound\"],\"purple\",alpha=0.5,\n",
    "        label=\"implicit bound\",linestyle=\"dashed\",marker=\"o\",)\n",
    "    \n",
    "plt.xlim(0, 1)\n",
    "plt.ylim(1, df[\"search_bound\"].max())\n",
    "plt.yscale(\"log\")\n",
    "plt.legend()\n",
    "plt.xlabel(\"$\\hat{p}$\")\n",
    "plt.ylabel(\"$n$\")\n",
    "plt.title(\n",
    "    '$\\quad\\quad m=2 \\quad \\Delta p = 0.5 \\quad P_{\\mathrm{min}} = 0.9$', \n",
    "    size=20)\n",
    "plt.grid(alpha=.5)\n",
    "plt.tight_layout()\n",
    "plt.savefig(f\"../plots/{D}.pdf\")"
   ]
  },
  {
   "cell_type": "code",
   "execution_count": null,
   "id": "c815cdbc",
   "metadata": {},
   "outputs": [],
   "source": [
    "df"
   ]
  },
  {
   "cell_type": "code",
   "execution_count": null,
   "id": "fa5a5209",
   "metadata": {},
   "outputs": [],
   "source": []
  }
 ],
 "metadata": {
  "kernelspec": {
   "display_name": "Python 3 (ipykernel)",
   "language": "python",
   "name": "python3"
  },
  "language_info": {
   "codemirror_mode": {
    "name": "ipython",
    "version": 3
   },
   "file_extension": ".py",
   "mimetype": "text/x-python",
   "name": "python",
   "nbconvert_exporter": "python",
   "pygments_lexer": "ipython3",
   "version": "3.11.3"
  }
 },
 "nbformat": 4,
 "nbformat_minor": 5
}
